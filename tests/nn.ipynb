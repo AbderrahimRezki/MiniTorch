{
 "cells": [
  {
   "cell_type": "code",
   "execution_count": 2,
   "metadata": {},
   "outputs": [],
   "source": [
    "from MiniTorch.tensor import Tensor, Parameter\n",
    "from MiniTorch.functions import relu\n",
    "from MiniTorch.optimizer import Optimizer\n",
    "from MiniTorch.visualizer import trace, build_graph\n",
    "import numpy as np"
   ]
  },
  {
   "cell_type": "code",
   "execution_count": 3,
   "metadata": {},
   "outputs": [],
   "source": [
    "class Model:\n",
    "    def __init__(self):\n",
    "        self.layers = [\n",
    "            Parameter(1, 1),\n",
    "        ]\n",
    "\n",
    "    def __call__(self, x):\n",
    "        if not isinstance(x, Tensor):\n",
    "            x = Tensor(x)\n",
    "        \n",
    "        out = x\n",
    "        for layer in self.layers:\n",
    "            out = layer(out)\n",
    "\n",
    "        return out\n",
    "    \n",
    "    def parameters(self):\n",
    "        return self.layers"
   ]
  },
  {
   "cell_type": "code",
   "execution_count": 4,
   "metadata": {},
   "outputs": [],
   "source": [
    "def mse(x: Tensor, y):\n",
    "    out = Tensor(0.5 * (x.data - y) ** 2, _children = (x,Tensor(y)), _op = \"mse\")\n",
    "    \n",
    "    def _backward():\n",
    "        x.grad -= (y - x.data) * out.grad\n",
    "        \n",
    "    out._backward = _backward\n",
    "    return out"
   ]
  },
  {
   "cell_type": "code",
   "execution_count": 5,
   "metadata": {},
   "outputs": [],
   "source": [
    "nn = Model()"
   ]
  },
  {
   "cell_type": "code",
   "execution_count": 6,
   "metadata": {},
   "outputs": [],
   "source": [
    "train_data = np.array(list(zip(\n",
    "    np.arange(1, 100),\n",
    "    2 * np.arange(1, 100)\n",
    ")))"
   ]
  },
  {
   "cell_type": "code",
   "execution_count": 7,
   "metadata": {},
   "outputs": [],
   "source": [
    "test_data = np.array(list(zip(\n",
    "    np.arange(100, 200),\n",
    "    2 * np.arange(100, 200)\n",
    ")))"
   ]
  },
  {
   "cell_type": "code",
   "execution_count": 8,
   "metadata": {},
   "outputs": [],
   "source": [
    "epochs = 1000\n",
    "optimizer = Optimizer(nn.parameters(), learning_rate = 0.01)"
   ]
  },
  {
   "cell_type": "code",
   "execution_count": 9,
   "metadata": {},
   "outputs": [
    {
     "name": "stdout",
     "output_type": "stream",
     "text": [
      "epoch = 0 | loss = array([[0.66036483]])\n",
      "epoch = 1 | loss = array([[0.66179615]])\n",
      "epoch = 2 | loss = array([[0.66253755]])\n",
      "epoch = 3 | loss = array([[0.66292142]])\n",
      "epoch = 4 | loss = array([[0.66312013]])\n",
      "epoch = 5 | loss = array([[0.66322299]])\n",
      "epoch = 6 | loss = array([[0.66327622]])\n",
      "epoch = 7 | loss = array([[0.66330378]])\n",
      "epoch = 8 | loss = array([[0.66331804]])\n",
      "epoch = 9 | loss = array([[0.66332542]])\n",
      "epoch = 10 | loss = array([[0.66332924]])\n",
      "epoch = 11 | loss = array([[0.66333121]])\n",
      "epoch = 12 | loss = array([[0.66333224]])\n",
      "epoch = 13 | loss = array([[0.66333277]])\n",
      "epoch = 14 | loss = array([[0.66333304]])\n",
      "epoch = 15 | loss = array([[0.66333318]])\n",
      "epoch = 16 | loss = array([[0.66333325]])\n",
      "epoch = 17 | loss = array([[0.66333329]])\n",
      "epoch = 18 | loss = array([[0.66333331]])\n",
      "epoch = 19 | loss = array([[0.66333332]])\n",
      "epoch = 20 | loss = array([[0.66333333]])\n",
      "epoch = 21 | loss = array([[0.66333333]])\n",
      "epoch = 22 | loss = array([[0.66333333]])\n",
      "epoch = 23 | loss = array([[0.66333333]])\n",
      "epoch = 24 | loss = array([[0.66333333]])\n",
      "epoch = 25 | loss = array([[0.66333333]])\n",
      "epoch = 26 | loss = array([[0.66333333]])\n",
      "epoch = 27 | loss = array([[0.66333333]])\n",
      "epoch = 28 | loss = array([[0.66333333]])\n",
      "epoch = 29 | loss = array([[0.66333333]])\n",
      "epoch = 30 | loss = array([[0.66333333]])\n",
      "epoch = 31 | loss = array([[0.66333333]])\n",
      "epoch = 32 | loss = array([[0.66333333]])\n",
      "epoch = 33 | loss = array([[0.66333333]])\n",
      "epoch = 34 | loss = array([[0.66333333]])\n",
      "epoch = 35 | loss = array([[0.66333333]])\n",
      "epoch = 36 | loss = array([[0.66333333]])\n",
      "epoch = 37 | loss = array([[0.66333333]])\n",
      "epoch = 38 | loss = array([[0.66333333]])\n",
      "epoch = 39 | loss = array([[0.66333333]])\n",
      "epoch = 40 | loss = array([[0.66333333]])\n",
      "epoch = 41 | loss = array([[0.66333333]])\n",
      "epoch = 42 | loss = array([[0.66333333]])\n",
      "epoch = 43 | loss = array([[0.66333333]])\n",
      "epoch = 44 | loss = array([[0.66333333]])\n",
      "epoch = 45 | loss = array([[0.66333333]])\n",
      "epoch = 46 | loss = array([[0.66333333]])\n",
      "epoch = 47 | loss = array([[0.66333333]])\n",
      "epoch = 48 | loss = array([[0.66333333]])\n"
     ]
    }
   ],
   "source": [
    "old_loss = -1\n",
    "for epoch in range(epochs):\n",
    "    loss = 0\n",
    "    for x, y in train_data:\n",
    "        x, y = x / 100, y / 100\n",
    "        out = nn([[x]])\n",
    "        out = mse(out, y)\n",
    "        \n",
    "        optimizer.zero_grad()\n",
    "        out.backward()\n",
    "        optimizer.step()\n",
    "        \n",
    "        loss += 0.5 * (out.data - y) ** 2\n",
    "    \n",
    "    loss /= len(train_data)\n",
    "    if loss == old_loss:\n",
    "        break\n",
    "    \n",
    "    old_loss = loss\n",
    "    print(f\"{epoch = } | {loss = }\")"
   ]
  },
  {
   "cell_type": "code",
   "execution_count": 17,
   "metadata": {},
   "outputs": [
    {
     "data": {
      "text/plain": [
       "1.0"
      ]
     },
     "execution_count": 17,
     "metadata": {},
     "output_type": "execute_result"
    }
   ],
   "source": [
    "train_acc = 0\n",
    "\n",
    "for x, y in train_data:\n",
    "    y_pred = nn([[x]]).data[0][0]\n",
    "\n",
    "    train_acc += np.allclose(y_pred, y)\n",
    "\n",
    "train_acc /= len(train_data)\n",
    "train_acc"
   ]
  },
  {
   "cell_type": "code",
   "execution_count": 18,
   "metadata": {},
   "outputs": [
    {
     "data": {
      "text/plain": [
       "1.0"
      ]
     },
     "execution_count": 18,
     "metadata": {},
     "output_type": "execute_result"
    }
   ],
   "source": [
    "test_acc = 0\n",
    "\n",
    "for x, y in test_data:\n",
    "    y_pred = nn([[x]]).data[0][0]\n",
    "\n",
    "    test_acc += np.allclose(y_pred, y)\n",
    "\n",
    "test_acc /= len(test_data)\n",
    "test_acc"
   ]
  }
 ],
 "metadata": {
  "kernelspec": {
   "display_name": "Python 3 (ipykernel)",
   "language": "python",
   "name": "python3"
  },
  "language_info": {
   "codemirror_mode": {
    "name": "ipython",
    "version": 3
   },
   "file_extension": ".py",
   "mimetype": "text/x-python",
   "name": "python",
   "nbconvert_exporter": "python",
   "pygments_lexer": "ipython3",
   "version": "3.11.9"
  }
 },
 "nbformat": 4,
 "nbformat_minor": 2
}
