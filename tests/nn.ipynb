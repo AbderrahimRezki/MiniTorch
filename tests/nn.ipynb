{
 "cells": [
  {
   "cell_type": "code",
   "execution_count": 1,
   "metadata": {},
   "outputs": [],
   "source": [
    "from MiniTorch.tensor import Tensor, Parameter\n",
    "from MiniTorch.functions import relu\n",
    "from MiniTorch.optimizer import Optimizer\n",
    "from MiniTorch.visualizer import trace, build_graph\n",
    "import numpy as np"
   ]
  },
  {
   "cell_type": "code",
   "execution_count": 2,
   "metadata": {},
   "outputs": [],
   "source": [
    "class Model:\n",
    "    def __init__(self):\n",
    "        self.layers = [\n",
    "            Parameter(1, 1),\n",
    "        ]\n",
    "\n",
    "    def __call__(self, x):\n",
    "        if not isinstance(x, Tensor):\n",
    "            x = Tensor(x)\n",
    "        \n",
    "        out = x\n",
    "        for layer in self.layers:\n",
    "            out = layer(out)\n",
    "\n",
    "        return out\n",
    "    \n",
    "    def parameters(self):\n",
    "        return self.layers"
   ]
  },
  {
   "cell_type": "code",
   "execution_count": 14,
   "metadata": {},
   "outputs": [],
   "source": [
    "def mse(x: Tensor, y):\n",
    "    out = Tensor(0.5 * (x.data - y) ** 2, _children = (x,Tensor(y)), _op = \"mse\")\n",
    "    \n",
    "    def _backward():\n",
    "        x.grad -= (y - x.data) * out.grad\n",
    "        \n",
    "    out._backward = _backward\n",
    "    return out"
   ]
  },
  {
   "cell_type": "code",
   "execution_count": 4,
   "metadata": {},
   "outputs": [],
   "source": [
    "nn = Model()"
   ]
  },
  {
   "cell_type": "code",
   "execution_count": 5,
   "metadata": {},
   "outputs": [],
   "source": [
    "train_data = np.array(list(zip(\n",
    "    np.arange(1, 100),\n",
    "    2 * np.arange(1, 100)\n",
    ")))"
   ]
  },
  {
   "cell_type": "code",
   "execution_count": 6,
   "metadata": {},
   "outputs": [],
   "source": [
    "test_data = train_data"
   ]
  },
  {
   "cell_type": "code",
   "execution_count": 17,
   "metadata": {},
   "outputs": [],
   "source": [
    "epochs = 1000\n",
    "optimizer = Optimizer(nn.parameters(), learning_rate = 0.01)"
   ]
  },
  {
   "cell_type": "code",
   "execution_count": 30,
   "metadata": {},
   "outputs": [
    {
     "name": "stdout",
     "output_type": "stream",
     "text": [
      "[[0.66333333]] -1\n",
      "epoch = 0 | loss = array([[0.66333333]])\n",
      "[[0.66333333]] [[0.66333333]]\n"
     ]
    }
   ],
   "source": [
    "old_loss = -1\n",
    "for epoch in range(epochs):\n",
    "    loss = 0\n",
    "    for x, y in train_data:\n",
    "        x, y = x / 100, y / 100\n",
    "        out = nn([[x]])\n",
    "        out = mse(out, y)\n",
    "        \n",
    "        optimizer.zero_grad()\n",
    "        out.backward()\n",
    "        optimizer.step()\n",
    "        \n",
    "        loss += 0.5 * (out.data - y) ** 2\n",
    "    \n",
    "    loss /= len(train_data)\n",
    "    \n",
    "    print(loss, old_loss)\n",
    "    \n",
    "    if loss == old_loss:\n",
    "        break\n",
    "    \n",
    "    old_loss = loss\n",
    "    \n",
    "    print(f\"{epoch = } | {loss = }\")"
   ]
  },
  {
   "cell_type": "code",
   "execution_count": null,
   "metadata": {},
   "outputs": [],
   "source": [
    "train_acc = 0\n",
    "\n",
    "for x, y in train_data:\n",
    "    "
   ]
  }
 ],
 "metadata": {
  "kernelspec": {
   "display_name": "Python 3 (ipykernel)",
   "language": "python",
   "name": "python3"
  },
  "language_info": {
   "codemirror_mode": {
    "name": "ipython",
    "version": 3
   },
   "file_extension": ".py",
   "mimetype": "text/x-python",
   "name": "python",
   "nbconvert_exporter": "python",
   "pygments_lexer": "ipython3",
   "version": "3.11.9"
  }
 },
 "nbformat": 4,
 "nbformat_minor": 2
}
